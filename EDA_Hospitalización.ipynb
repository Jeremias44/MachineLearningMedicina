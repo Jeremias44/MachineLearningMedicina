{
 "cells": [
  {
   "cell_type": "code",
   "execution_count": 53,
   "metadata": {},
   "outputs": [],
   "source": [
    "import pandas as pd\n",
    "import numpy as np\n"
   ]
  },
  {
   "cell_type": "markdown",
   "metadata": {},
   "source": [
    "# Importación de los datos"
   ]
  },
  {
   "cell_type": "code",
   "execution_count": 103,
   "metadata": {},
   "outputs": [
    {
     "name": "stderr",
     "output_type": "stream",
     "text": [
      "c:\\Users\\Usuario\\AppData\\Local\\Programs\\Python\\Python311\\Lib\\site-packages\\openpyxl\\worksheet\\_reader.py:329: UserWarning: Unknown extension is not supported and will be removed\n",
      "  warn(msg)\n"
     ]
    }
   ],
   "source": [
    "# Importamos el excel como un DataFrame\n",
    "Hospital = pd.read_excel(r'C:\\Users\\Usuario\\proyectos PY\\SOY HENRY\\Bootcamp\\M6\\Proyecto Integrador\\Propuesta 1\\BBDD_Hospitalización.xlsx')\n",
    "# Creamos copia para modificar y tener un respaldo original de comparación\n",
    "HospitalOk = Hospital.copy()"
   ]
  },
  {
   "cell_type": "markdown",
   "metadata": {},
   "source": [
    "A continuación se hace una primera limpieza, borrando registros vacíos y cambiando nombre de columnas"
   ]
  },
  {
   "cell_type": "code",
   "execution_count": 104,
   "metadata": {},
   "outputs": [],
   "source": [
    "# Eliminamos registros completamente vacíos\n",
    "HospitalOk.dropna(how='all', inplace=True)"
   ]
  },
  {
   "cell_type": "code",
   "execution_count": 105,
   "metadata": {},
   "outputs": [],
   "source": [
    "# Cambiamos nombre a columnas, para quitar tildes, normalizar estilos y achicar los nombres extensos\n",
    "\n",
    "HospitalOk.rename(columns={HospitalOk.columns[2]: 'HOSPITALIZACION ULTIMO MES'}, inplace=True)\n",
    "HospitalOk.rename(columns={HospitalOk.columns[6]: 'ANTIBIOTICO UTILIZADO'}, inplace=True)\n",
    "HospitalOk.rename(columns={HospitalOk.columns[7]: 'MUESTRAS TOMADAS'}, inplace=True)\n",
    "HospitalOk.rename(columns={HospitalOk.columns[9]: 'ENFERMEDAD CRONICA PULMONAR OBSTRUCTIVA'}, inplace=True)\n",
    "HospitalOk.rename(columns={HospitalOk.columns[11]: 'COMPLICACION INFECCIOSA POST BIOPSIA'}, inplace=True)\n",
    "HospitalOk.rename(columns={HospitalOk.columns[19]: 'DIAS HOSPITALIZACION UPC'}, inplace=True)\n"
   ]
  },
  {
   "cell_type": "markdown",
   "metadata": {},
   "source": [
    "# Análisis y visualización estadística de cada columna.\n",
    "Cuando vemos que el count es menor a 568 es porque hay valores NaN.\n",
    "Estos valores deben ser np.nan\n",
    "\n",
    "A continuación también corroboramos que los valores únicos correspondan a categorías realmente distintas\n",
    "y no sean errores de tipeo.\n",
    "\n",
    "En caso de encontar errores de tipeo serán corregidos"
   ]
  },
  {
   "cell_type": "code",
   "execution_count": 125,
   "metadata": {},
   "outputs": [
    {
     "name": "stdout",
     "output_type": "stream",
     "text": [
      "[ 53.  56.  57.  55.  67.  69.  44.  54.  68.  43.  65.  62.  71.  64.\n",
      "  77.  75.  73.  63.  66.  84.  42.  61.  47.  48.  49.  81.  52.  74.\n",
      "  70.  58.  59.  60.  50. 143. 151.  76.  78.  46.  51.  79.  39.  72.\n",
      "  80.  45.  82.]\n",
      "568\n",
      "count    568.000000\n",
      "mean      63.882042\n",
      "std        9.281517\n",
      "min       39.000000\n",
      "25%       59.000000\n",
      "50%       64.000000\n",
      "75%       69.000000\n",
      "max      151.000000\n",
      "Name: EDAD, dtype: float64\n"
     ]
    }
   ],
   "source": [
    "print(HospitalOk['EDAD'].unique())\n",
    "#print(HospitalOk['EDAD'].value_counts())\n",
    "print(HospitalOk['EDAD'].count())\n",
    "print(HospitalOk['EDAD'].describe())"
   ]
  },
  {
   "cell_type": "code",
   "execution_count": 124,
   "metadata": {},
   "outputs": [
    {
     "name": "stdout",
     "output_type": "stream",
     "text": [
      "['NO' 'SI']\n",
      "DIABETES\n",
      "NO    505\n",
      "SI     63\n",
      "Name: count, dtype: int64\n",
      "568\n",
      "count     568\n",
      "unique      2\n",
      "top        NO\n",
      "freq      505\n",
      "Name: DIABETES, dtype: object\n"
     ]
    }
   ],
   "source": [
    "print(HospitalOk['DIABETES'].unique())\n",
    "print(HospitalOk['DIABETES'].value_counts())\n",
    "print(HospitalOk['DIABETES'].count())\n",
    "print(HospitalOk['DIABETES'].describe())"
   ]
  },
  {
   "cell_type": "code",
   "execution_count": 123,
   "metadata": {},
   "outputs": [
    {
     "name": "stdout",
     "output_type": "stream",
     "text": [
      "['NO' 'SI']\n",
      "HOSPITALIZACION ULTIMO MES\n",
      "NO    563\n",
      "SI      5\n",
      "Name: count, dtype: int64\n",
      "568\n",
      "count     568\n",
      "unique      2\n",
      "top        NO\n",
      "freq      563\n",
      "Name: HOSPITALIZACION ULTIMO MES, dtype: object\n"
     ]
    }
   ],
   "source": [
    "print(HospitalOk['HOSPITALIZACION ULTIMO MES'].unique())\n",
    "print(HospitalOk['HOSPITALIZACION ULTIMO MES'].value_counts())\n",
    "print(HospitalOk['HOSPITALIZACION ULTIMO MES'].count())\n",
    "print(HospitalOk['HOSPITALIZACION ULTIMO MES'].describe())"
   ]
  },
  {
   "cell_type": "code",
   "execution_count": 122,
   "metadata": {},
   "outputs": [
    {
     "name": "stdout",
     "output_type": "stream",
     "text": [
      "[  4.     7.7   29.     7.     6.2    6.      nan   5.7    4.3    5.19\n",
      "   4.5   14.    10.     9.    25.    91.8   21.    98.     7.5   10.8\n",
      "  10.5   90.     5.1   16.    17.    23.     6.4  100.     5.8   38.9\n",
      "  20.    40.     9.5    9.6   10.2    8.5   53.    19.     5.6    3.5\n",
      "  15.     5.2   17.7    4.6    8.     8.7    4.8    7.6   10.6    4.7\n",
      "  18.    27.     5.     8.39   4.79   6.8    4.9    7.8   16.2    8.3\n",
      "   6.5    7.2    5.97   6.98  12.    24.     8.9    6.3    9.3   12.6\n",
      "   5.5   13.8   13.4   11.    21.3    7.1   11.9    3.8   15.6    5.4\n",
      "  22.    12.8    4.1    2.     9.4    4.49  11.5    5.31  33.6   48.3\n",
      "   5.11   8.8   26.     0.6   31.    27.6   83.    15.85  20.2   14.9\n",
      "   2.5    3.9   18.2   28.    33.8   28.6   21.1   30.    13.5    3.\n",
      "  21.9   43.9    8.1   23.6    3.6    9.9    7.9    6.1    4.4    3.7\n",
      "  14.5    6.6   12.3    2.4    5.02   7.4    9.7   33.    10.9   76.\n",
      "  26.6   13.    22.2   22.6   11.7   10.3    6.64  70.     5.3   54.\n",
      "  45.    35.    15.8   44.    78.    75.     4.43]\n",
      "564\n",
      "count    564.000000\n",
      "mean      13.271401\n",
      "std       15.668966\n",
      "min        0.600000\n",
      "25%        5.600000\n",
      "50%        8.000000\n",
      "75%       15.000000\n",
      "max      100.000000\n",
      "Name: PSA, dtype: float64\n"
     ]
    }
   ],
   "source": [
    "print(HospitalOk['PSA'].unique())\n",
    "#print(HospitalOk['PSA'].value_counts())\n",
    "print(HospitalOk['PSA'].count())\n",
    "print(HospitalOk['PSA'].describe())"
   ]
  },
  {
   "cell_type": "code",
   "execution_count": 117,
   "metadata": {},
   "outputs": [
    {
     "name": "stdout",
     "output_type": "stream",
     "text": [
      "['NO' 'SI' nan]\n",
      "BIOPSIAS PREVIAS\n",
      "NO    510\n",
      "SI     56\n",
      "Name: count, dtype: int64\n",
      "566\n",
      "count     566\n",
      "unique      2\n",
      "top        NO\n",
      "freq      510\n",
      "Name: BIOPSIAS PREVIAS, dtype: object\n"
     ]
    }
   ],
   "source": [
    "print(HospitalOk['BIOPSIAS PREVIAS'].unique())\n",
    "print(HospitalOk['BIOPSIAS PREVIAS'].value_counts())\n",
    "print(HospitalOk['BIOPSIAS PREVIAS'].count())\n",
    "print(HospitalOk['BIOPSIAS PREVIAS'].describe())"
   ]
  },
  {
   "cell_type": "code",
   "execution_count": 116,
   "metadata": {},
   "outputs": [
    {
     "name": "stdout",
     "output_type": "stream",
     "text": [
      "['SI' 'NO' nan]\n",
      "VOLUMEN PROSTATICO\n",
      "SI    408\n",
      "NO    159\n",
      "Name: count, dtype: int64\n",
      "567\n",
      "count     567\n",
      "unique      2\n",
      "top        SI\n",
      "freq      408\n",
      "Name: VOLUMEN PROSTATICO, dtype: object\n"
     ]
    }
   ],
   "source": [
    "print(HospitalOk['VOLUMEN PROSTATICO'].unique())\n",
    "print(HospitalOk['VOLUMEN PROSTATICO'].value_counts())\n",
    "print(HospitalOk['VOLUMEN PROSTATICO'].count())\n",
    "print(HospitalOk['VOLUMEN PROSTATICO'].describe())"
   ]
  },
  {
   "cell_type": "code",
   "execution_count": 128,
   "metadata": {},
   "outputs": [
    {
     "name": "stdout",
     "output_type": "stream",
     "text": [
      "['FLUOROQUINOLONA_AMINOGLUCOSIDO' 'CEFALOSPORINA_AMINOGLUCOCIDO'\n",
      " 'OROQUINOLONAS' 'OTROS']\n",
      "ANTIBIOTICO UTILIZADO\n",
      "FLUOROQUINOLONA_AMINOGLUCOSIDO    452\n",
      "CEFALOSPORINA_AMINOGLUCOCIDO       56\n",
      "OTROS                              42\n",
      "OROQUINOLONAS                      18\n",
      "Name: count, dtype: int64\n",
      "568\n",
      "count                                568\n",
      "unique                                 4\n",
      "top       FLUOROQUINOLONA_AMINOGLUCOSIDO\n",
      "freq                                 452\n",
      "Name: ANTIBIOTICO UTILIZADO, dtype: object\n"
     ]
    }
   ],
   "source": [
    "print(HospitalOk['ANTIBIOTICO UTILIZADO'].unique())\n",
    "print(HospitalOk['ANTIBIOTICO UTILIZADO'].value_counts())\n",
    "print(HospitalOk['ANTIBIOTICO UTILIZADO'].count())\n",
    "print(HospitalOk['ANTIBIOTICO UTILIZADO'].describe())"
   ]
  },
  {
   "cell_type": "code",
   "execution_count": 127,
   "metadata": {},
   "outputs": [],
   "source": [
    "# Detectado Error de Tipeo de 'FLUOROQUINOLONA_AMINOGLUCOSIDO' (se corrige)\n",
    "HospitalOk.loc[HospitalOk['ANTIBIOTICO UTILIZADO'] == 'FLUOROQUINOLONA_AMINOGLICOSIDO', 'ANTIBIOTICO UTILIZADO'] = 'FLUOROQUINOLONA_AMINOGLUCOSIDO'\n",
    "HospitalOk.loc[HospitalOk['ANTIBIOTICO UTILIZADO'] == 'FLUOROQUINOLONA_AMINOGLICÓSIDO', 'ANTIBIOTICO UTILIZADO'] = 'FLUOROQUINOLONA_AMINOGLUCOSIDO'"
   ]
  },
  {
   "cell_type": "code",
   "execution_count": 130,
   "metadata": {},
   "outputs": [
    {
     "name": "stdout",
     "output_type": "stream",
     "text": [
      "[12. 24. 18.  6. 16. 20. 10.  4.  8. 15. 22. 14.]\n",
      "568\n",
      "count    568.000000\n",
      "mean      12.996479\n",
      "std        3.921180\n",
      "min        4.000000\n",
      "25%       12.000000\n",
      "50%       12.000000\n",
      "75%       12.000000\n",
      "max       24.000000\n",
      "Name: MUESTRAS TOMADAS, dtype: float64\n"
     ]
    }
   ],
   "source": [
    "print(HospitalOk['MUESTRAS TOMADAS'].unique())\n",
    "#print(HospitalOk['MUESTRAS TOMADAS'].value_counts())\n",
    "print(HospitalOk['MUESTRAS TOMADAS'].count())\n",
    "print(HospitalOk['MUESTRAS TOMADAS'].describe())"
   ]
  },
  {
   "cell_type": "code",
   "execution_count": 131,
   "metadata": {},
   "outputs": [
    {
     "name": "stdout",
     "output_type": "stream",
     "text": [
      "['NO' 'SI' nan]\n",
      "CUP\n",
      "NO    563\n",
      "SI      4\n",
      "Name: count, dtype: int64\n",
      "567\n",
      "count     567\n",
      "unique      2\n",
      "top        NO\n",
      "freq      563\n",
      "Name: CUP, dtype: object\n"
     ]
    }
   ],
   "source": [
    "print(HospitalOk['CUP'].unique())\n",
    "print(HospitalOk['CUP'].value_counts())\n",
    "print(HospitalOk['CUP'].count())\n",
    "print(HospitalOk['CUP'].describe())"
   ]
  },
  {
   "cell_type": "code",
   "execution_count": 132,
   "metadata": {},
   "outputs": [
    {
     "name": "stdout",
     "output_type": "stream",
     "text": [
      "['NO' 'SI, EPOC' 'SI, ASMA' 'SI' nan]\n",
      "ENFERMEDAD CRONICA PULMONAR OBSTRUCTIVA\n",
      "NO          546\n",
      "SI           12\n",
      "SI, EPOC      4\n",
      "SI, ASMA      4\n",
      "Name: count, dtype: int64\n",
      "566\n",
      "count     566\n",
      "unique      4\n",
      "top        NO\n",
      "freq      546\n",
      "Name: ENFERMEDAD CRONICA PULMONAR OBSTRUCTIVA, dtype: object\n"
     ]
    }
   ],
   "source": [
    "print(HospitalOk['ENFERMEDAD CRONICA PULMONAR OBSTRUCTIVA'].unique())\n",
    "print(HospitalOk['ENFERMEDAD CRONICA PULMONAR OBSTRUCTIVA'].value_counts())\n",
    "print(HospitalOk['ENFERMEDAD CRONICA PULMONAR OBSTRUCTIVA'].count())\n",
    "print(HospitalOk['ENFERMEDAD CRONICA PULMONAR OBSTRUCTIVA'].describe())\n",
    "\n",
    "# Las categorías se agruparán en SI/NO"
   ]
  },
  {
   "cell_type": "code",
   "execution_count": 133,
   "metadata": {},
   "outputs": [
    {
     "name": "stdout",
     "output_type": "stream",
     "text": [
      "['NEG' 'ADENOCARCINOMA GLEASON 6 ' 'ADENOCARCINOMA GLEASON 7 '\n",
      " 'ADENOCARCINOMA GLEASON 6' 'ADENOCARCINOMA GLEASON 10 '\n",
      " 'ADENOCARCINOMA GLEASON 9 ' 'ADENOCARCINOMA GLEASON 8 ' 'PROSTATITIS'\n",
      " 'HIPERPLASIA PROSTATICA' 'ADENOCARCINOMA GLEASON 7'\n",
      " 'CARCINOMA INDIFERENCIADO DE CELULAS CLARAS']\n",
      "BIOPSIA\n",
      "NEG                                           322\n",
      "ADENOCARCINOMA GLEASON 7                      106\n",
      "ADENOCARCINOMA GLEASON 6                       38\n",
      "ADENOCARCINOMA GLEASON 8                       22\n",
      "ADENOCARCINOMA GLEASON 9                       20\n",
      "ADENOCARCINOMA GLEASON 6                       16\n",
      "PROSTATITIS                                    14\n",
      "HIPERPLASIA PROSTATICA                         14\n",
      "ADENOCARCINOMA GLEASON 7                       10\n",
      "ADENOCARCINOMA GLEASON 10                       4\n",
      "CARCINOMA INDIFERENCIADO DE CELULAS CLARAS      2\n",
      "Name: count, dtype: int64\n",
      "568\n",
      "count     568\n",
      "unique     11\n",
      "top       NEG\n",
      "freq      322\n",
      "Name: BIOPSIA, dtype: object\n"
     ]
    }
   ],
   "source": [
    "print(HospitalOk['BIOPSIA'].unique())\n",
    "print(HospitalOk['BIOPSIA'].value_counts())\n",
    "print(HospitalOk['BIOPSIA'].count())\n",
    "print(HospitalOk['BIOPSIA'].describe())\n",
    "# Las categorías podrían agruparse en SI/NO"
   ]
  },
  {
   "cell_type": "code",
   "execution_count": null,
   "metadata": {},
   "outputs": [],
   "source": [
    "# Detectado Error de Tipeo de 'ADENOCARCINOMA GLEASON 6' y 'ADENOCARCINOMA GLEASON 7' (se corrige)\n",
    "HospitalOk.loc[HospitalOk['BIOPSIA'] == 'ADENOCARCINOMA GLEASON 6 ', 'BIOPSIA'] = 'ADENOCARCINOMA GLEASON 6'\n",
    "HospitalOk.loc[HospitalOk['BIOPSIA'] == 'ADENOCARCINOMA GLEASON 7 ', 'BIOPSIA'] = 'ADENOCARCINOMA GLEASON 7'\n",
    "\n",
    "# Se normalizan todos los valores, quitando espacio al final de la cadena\n",
    "HospitalOk.loc[HospitalOk['BIOPSIA'] == 'ADENOCARCINOMA GLEASON 10 ', 'BIOPSIA'] = 'ADENOCARCINOMA GLEASON 10'\n",
    "HospitalOk.loc[HospitalOk['BIOPSIA'] == 'ADENOCARCINOMA GLEASON 9 ', 'BIOPSIA'] = 'ADENOCARCINOMA GLEASON 9'\n",
    "HospitalOk.loc[HospitalOk['BIOPSIA'] == 'ADENOCARCINOMA GLEASON 8 ', 'BIOPSIA'] = 'ADENOCARCINOMA GLEASON 8'"
   ]
  },
  {
   "cell_type": "code",
   "execution_count": 134,
   "metadata": {},
   "outputs": [
    {
     "name": "stdout",
     "output_type": "stream",
     "text": [
      "[1 2 3 5 9 'NO']\n",
      "COMPLICACION INFECCIOSA POST BIOPSIA\n",
      "NO    542\n",
      "2       9\n",
      "3       8\n",
      "1       5\n",
      "5       2\n",
      "9       2\n",
      "Name: count, dtype: int64\n",
      "568\n",
      "count     568\n",
      "unique      6\n",
      "top        NO\n",
      "freq      542\n",
      "Name: COMPLICACION INFECCIOSA POST BIOPSIA, dtype: object\n"
     ]
    }
   ],
   "source": [
    "print(HospitalOk['COMPLICACION INFECCIOSA POST BIOPSIA'].unique())\n",
    "print(HospitalOk['COMPLICACION INFECCIOSA POST BIOPSIA'].value_counts())\n",
    "print(HospitalOk['COMPLICACION INFECCIOSA POST BIOPSIA'].count())\n",
    "print(HospitalOk['COMPLICACION INFECCIOSA POST BIOPSIA'].describe())\n",
    "# Las categorías se agruparán en SI/NO"
   ]
  },
  {
   "cell_type": "code",
   "execution_count": 135,
   "metadata": {},
   "outputs": [
    {
     "name": "stdout",
     "output_type": "stream",
     "text": [
      "['SI' 'NO']\n",
      "FIEBRE\n",
      "NO    531\n",
      "SI     37\n",
      "Name: count, dtype: int64\n",
      "568\n",
      "count     568\n",
      "unique      2\n",
      "top        NO\n",
      "freq      531\n",
      "Name: FIEBRE, dtype: object\n"
     ]
    }
   ],
   "source": [
    "print(HospitalOk['FIEBRE'].unique())\n",
    "print(HospitalOk['FIEBRE'].value_counts())\n",
    "print(HospitalOk['FIEBRE'].count())\n",
    "print(HospitalOk['FIEBRE'].describe())"
   ]
  },
  {
   "cell_type": "code",
   "execution_count": 136,
   "metadata": {},
   "outputs": [
    {
     "name": "stdout",
     "output_type": "stream",
     "text": [
      "['NO' 'SI']\n",
      "ITU\n",
      "NO    562\n",
      "SI      6\n",
      "Name: count, dtype: int64\n",
      "568\n",
      "count     568\n",
      "unique      2\n",
      "top        NO\n",
      "freq      562\n",
      "Name: ITU, dtype: object\n"
     ]
    }
   ],
   "source": [
    "print(HospitalOk['ITU'].unique())\n",
    "print(HospitalOk['ITU'].value_counts())\n",
    "print(HospitalOk['ITU'].count())\n",
    "print(HospitalOk['ITU'].describe())"
   ]
  },
  {
   "cell_type": "code",
   "execution_count": 137,
   "metadata": {},
   "outputs": [
    {
     "name": "stdout",
     "output_type": "stream",
     "text": [
      "['NO' 'HEMOCULTIVO' 'UROCULTIVO' 'HEMOCULTIVO Y UROCULTIVO']\n",
      "TIPO DE CULTIVO\n",
      "NO                          560\n",
      "UROCULTIVO                    4\n",
      "HEMOCULTIVO                   2\n",
      "HEMOCULTIVO Y UROCULTIVO      2\n",
      "Name: count, dtype: int64\n",
      "568\n",
      "count     568\n",
      "unique      4\n",
      "top        NO\n",
      "freq      560\n",
      "Name: TIPO DE CULTIVO, dtype: object\n"
     ]
    }
   ],
   "source": [
    "print(HospitalOk['TIPO DE CULTIVO'].unique())\n",
    "print(HospitalOk['TIPO DE CULTIVO'].value_counts())\n",
    "print(HospitalOk['TIPO DE CULTIVO'].count())\n",
    "print(HospitalOk['TIPO DE CULTIVO'].describe())\n",
    "\n",
    "# Las categorías podrían agruparse en SI/NO"
   ]
  },
  {
   "cell_type": "code",
   "execution_count": 138,
   "metadata": {},
   "outputs": [
    {
     "name": "stdout",
     "output_type": "stream",
     "text": [
      "['NO' 'E.COLI' 'PSEUDOMONAS AERUGINOSA' nan]\n",
      "AGENTE AISLADO\n",
      "NO                        543\n",
      "E.COLI                      6\n",
      "PSEUDOMONAS AERUGINOSA      2\n",
      "Name: count, dtype: int64\n",
      "551\n",
      "count     551\n",
      "unique      3\n",
      "top        NO\n",
      "freq      543\n",
      "Name: AGENTE AISLADO, dtype: object\n"
     ]
    }
   ],
   "source": [
    "print(HospitalOk['AGENTE AISLADO'].unique())\n",
    "print(HospitalOk['AGENTE AISLADO'].value_counts())\n",
    "print(HospitalOk['AGENTE AISLADO'].count())\n",
    "print(HospitalOk['AGENTE AISLADO'].describe())\n",
    "\n",
    "# Las categorías podrían agruparse en SI/NO"
   ]
  },
  {
   "cell_type": "code",
   "execution_count": 139,
   "metadata": {},
   "outputs": [
    {
     "name": "stdout",
     "output_type": "stream",
     "text": [
      "['NO' ' AMPI R, CIPRO R, GENTA R, SULFA M R'\n",
      " 'RESISTENTE A AMPI, CIPRO Y GENTA'\n",
      " 'RESISTENTE A AMPI, SULFA, CEFADROXILO, CEFUROXIMO, CIPRO Y CEFEPIME, CEFOTAXIMA'\n",
      " 'MULTI SENSIBLE']\n",
      "PATRON DE RESISTENCIA\n",
      "NO                                                                                 561\n",
      "RESISTENTE A AMPI, CIPRO Y GENTA                                                     2\n",
      "RESISTENTE A AMPI, SULFA, CEFADROXILO, CEFUROXIMO, CIPRO Y CEFEPIME, CEFOTAXIMA      2\n",
      "MULTI SENSIBLE                                                                       2\n",
      " AMPI R, CIPRO R, GENTA R, SULFA M R                                                 1\n",
      "Name: count, dtype: int64\n",
      "568\n",
      "count     568\n",
      "unique      5\n",
      "top        NO\n",
      "freq      561\n",
      "Name: PATRON DE RESISTENCIA, dtype: object\n"
     ]
    }
   ],
   "source": [
    "print(HospitalOk['PATRON DE RESISTENCIA'].unique())\n",
    "print(HospitalOk['PATRON DE RESISTENCIA'].value_counts())\n",
    "print(HospitalOk['PATRON DE RESISTENCIA'].count())\n",
    "print(HospitalOk['PATRON DE RESISTENCIA'].describe())\n",
    "\n",
    "# Las categorías podrían agruparse en SI/NO"
   ]
  },
  {
   "cell_type": "code",
   "execution_count": 140,
   "metadata": {},
   "outputs": [
    {
     "name": "stdout",
     "output_type": "stream",
     "text": [
      "['SI' 'NO' nan]\n",
      "HOSPITALIZACION\n",
      "NO    541\n",
      "SI     24\n",
      "Name: count, dtype: int64\n",
      "565\n",
      "count     565\n",
      "unique      2\n",
      "top        NO\n",
      "freq      541\n",
      "Name: HOSPITALIZACION, dtype: object\n"
     ]
    }
   ],
   "source": [
    "print(HospitalOk['HOSPITALIZACION'].unique())\n",
    "print(HospitalOk['HOSPITALIZACION'].value_counts())\n",
    "print(HospitalOk['HOSPITALIZACION'].count())\n",
    "print(HospitalOk['HOSPITALIZACION'].describe())"
   ]
  },
  {
   "cell_type": "code",
   "execution_count": 141,
   "metadata": {},
   "outputs": [
    {
     "name": "stdout",
     "output_type": "stream",
     "text": [
      "[ 2.  5.  4.  3. 12.  0.]\n",
      "DIAS HOSPITALIZACION MQ\n",
      "0.0     544\n",
      "2.0       8\n",
      "4.0       6\n",
      "3.0       5\n",
      "5.0       3\n",
      "12.0      2\n",
      "Name: count, dtype: int64\n",
      "568\n",
      "count    568.000000\n",
      "mean       0.165493\n",
      "std        0.958066\n",
      "min        0.000000\n",
      "25%        0.000000\n",
      "50%        0.000000\n",
      "75%        0.000000\n",
      "max       12.000000\n",
      "Name: DIAS HOSPITALIZACION MQ, dtype: float64\n"
     ]
    }
   ],
   "source": [
    "print(HospitalOk['DIAS HOSPITALIZACION MQ'].unique())\n",
    "print(HospitalOk['DIAS HOSPITALIZACION MQ'].value_counts())\n",
    "print(HospitalOk['DIAS HOSPITALIZACION MQ'].count())\n",
    "print(HospitalOk['DIAS HOSPITALIZACION MQ'].describe())\n",
    "\n",
    "# Esta columna será eliminada"
   ]
  },
  {
   "cell_type": "code",
   "execution_count": 142,
   "metadata": {},
   "outputs": [
    {
     "name": "stdout",
     "output_type": "stream",
     "text": [
      "[0. 3. 2.]\n",
      "DIAS HOSPITALIZACION UPC\n",
      "0.0    565\n",
      "3.0      2\n",
      "2.0      1\n",
      "Name: count, dtype: int64\n",
      "568\n",
      "count    568.000000\n",
      "mean       0.014085\n",
      "std        0.196474\n",
      "min        0.000000\n",
      "25%        0.000000\n",
      "50%        0.000000\n",
      "75%        0.000000\n",
      "max        3.000000\n",
      "Name: DIAS HOSPITALIZACION UPC, dtype: float64\n"
     ]
    }
   ],
   "source": [
    "print(HospitalOk['DIAS HOSPITALIZACION UPC'].unique())\n",
    "print(HospitalOk['DIAS HOSPITALIZACION UPC'].value_counts())\n",
    "print(HospitalOk['DIAS HOSPITALIZACION UPC'].count())\n",
    "print(HospitalOk['DIAS HOSPITALIZACION UPC'].describe())\n",
    "\n",
    "# Esta columna será eliminada"
   ]
  },
  {
   "cell_type": "markdown",
   "metadata": {},
   "source": [
    "# Luego del EDA exportamos el DataFrame como un nuevo archivo Excel"
   ]
  },
  {
   "cell_type": "code",
   "execution_count": 143,
   "metadata": {},
   "outputs": [],
   "source": [
    "HospitalOk.to_excel(r'C:\\Users\\Usuario\\proyectos PY\\SOY HENRY\\Bootcamp\\M6\\Proyecto Integrador\\Propuesta 1\\HospitalOk.xlsx', index=False)"
   ]
  }
 ],
 "metadata": {
  "kernelspec": {
   "display_name": "Python 3",
   "language": "python",
   "name": "python3"
  },
  "language_info": {
   "codemirror_mode": {
    "name": "ipython",
    "version": 3
   },
   "file_extension": ".py",
   "mimetype": "text/x-python",
   "name": "python",
   "nbconvert_exporter": "python",
   "pygments_lexer": "ipython3",
   "version": "3.11.2"
  },
  "orig_nbformat": 4
 },
 "nbformat": 4,
 "nbformat_minor": 2
}
